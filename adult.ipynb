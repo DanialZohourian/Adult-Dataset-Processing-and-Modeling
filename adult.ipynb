{
 "cells": [
  {
   "cell_type": "code",
   "execution_count": 1,
   "metadata": {},
   "outputs": [],
   "source": [
    "# Importing used libraries\n",
    "\n",
    "import pandas as pd\n",
    "import numpy as np\n",
    "import seaborn as sns\n",
    "import matplotlib.pyplot as plt\n",
    "from sklearn.impute import SimpleImputer\n",
    "from sklearn.ensemble import RandomForestClassifier\n",
    "from sklearn.preprocessing import StandardScaler\n",
    "from sklearn.preprocessing import MinMaxScaler\n",
    "from sklearn.preprocessing import LabelEncoder\n",
    "from sklearn.metrics import accuracy_score, precision_score, recall_score, f1_score\n",
    "from imblearn.over_sampling import RandomOverSampler\n"
   ]
  },
  {
   "cell_type": "code",
   "execution_count": 2,
   "metadata": {},
   "outputs": [],
   "source": [
    "# Reading train and test data\n",
    "data = pd.read_csv('adult.data.csv')\n",
    "test =  pd.read_csv('adult.test.csv')\n"
   ]
  },
  {
   "cell_type": "code",
   "execution_count": 3,
   "metadata": {},
   "outputs": [],
   "source": [
    "# Replacing ' ?' values to nan\n",
    "data.replace(' ?', np.nan, inplace=True)\n",
    "test.replace(' ?', np.nan, inplace=True)\n"
   ]
  },
  {
   "cell_type": "code",
   "execution_count": 4,
   "metadata": {},
   "outputs": [
    {
     "data": {
      "image/png": "[encoded data removed]",
      "text/plain": [
       "<Figure size 1000x400 with 1 Axes>"
      ]
     },
     "metadata": {},
     "output_type": "display_data"
    }
   ],
   "source": [
    "# Countplot of number of missing values by person (coded completely by myself, not copied from anywhere)\n",
    "data['na_count']=data.isna().sum(axis=1)\n",
    "plt.figure(figsize=(10,4))\n",
    "sns.countplot(data=data, x='na_count', hue='target')\n",
    "plt.title('Number of missing entries by person')\n",
    "data.drop('na_count', axis=1, inplace=True)"
   ]
  },
  {
   "cell_type": "code",
   "execution_count": 5,
   "metadata": {},
   "outputs": [],
   "source": [
    "# Dropping nan values as they are a small fraction of the data and I'm lazy\n",
    "data = data.dropna()\n",
    "test = test.dropna()"
   ]
  },
  {
   "cell_type": "code",
   "execution_count": 6,
   "metadata": {},
   "outputs": [
    {
     "data": {
      "text/plain": [
       "target\n",
       " <=50K    22654\n",
       " >50K      7508\n",
       "Name: count, dtype: int64"
      ]
     },
     "execution_count": 6,
     "metadata": {},
     "output_type": "execute_result"
    }
   ],
   "source": [
    "# Checking the balance of the data\n",
    "data.target.value_counts()"
   ]
  },
  {
   "cell_type": "code",
   "execution_count": 7,
   "metadata": {},
   "outputs": [
    {
     "data": {
      "text/plain": [
       "age                  72\n",
       "workclass             7\n",
       "fnlwgt            20263\n",
       "education            16\n",
       "educationnum         16\n",
       "marritalstatus        7\n",
       "occupation           14\n",
       "relationship          6\n",
       "race                  5\n",
       "sex                   2\n",
       "gain                118\n",
       "loss                 90\n",
       "hpw                  94\n",
       "country              41\n",
       "target                2\n",
       "dtype: int64"
      ]
     },
     "execution_count": 7,
     "metadata": {},
     "output_type": "execute_result"
    }
   ],
   "source": [
    "# Checking the number of unique values in each column\n",
    "data.nunique()"
   ]
  },
  {
   "cell_type": "code",
   "execution_count": 8,
   "metadata": {},
   "outputs": [],
   "source": [
    "# fnlwgt plot\n",
    "# sns.histplot(data, x = 'fnlwgt')\n",
    "# plt.show()\n"
   ]
  },
  {
   "cell_type": "code",
   "execution_count": 9,
   "metadata": {},
   "outputs": [
    {
     "data": {
      "text/plain": [
       "count    3.016200e+04\n",
       "mean     1.897938e+05\n",
       "std      1.056530e+05\n",
       "min      1.376900e+04\n",
       "25%      1.176272e+05\n",
       "50%      1.784250e+05\n",
       "75%      2.376285e+05\n",
       "max      1.484705e+06\n",
       "Name: fnlwgt, dtype: float64"
      ]
     },
     "execution_count": 9,
     "metadata": {},
     "output_type": "execute_result"
    }
   ],
   "source": [
    "data.fnlwgt.describe()"
   ]
  },
  {
   "cell_type": "code",
   "execution_count": 10,
   "metadata": {},
   "outputs": [],
   "source": [
    "# Descretizing fnlwgt column based on quartiles\n",
    "\n",
    "fnl_bins = [1.2e+04, 1.2e+05, 1.8e+05, 2.4e+05, 1.5e+06]\n",
    "fnl_labels = ['fnl-0-25', 'fnl-25-50', 'fnl-50-75', 'fnl-75-100']\n",
    "\n",
    "data['fnl'] = pd.cut(data['fnlwgt'], bins=fnl_bins, labels=fnl_labels)\n",
    "test['fnl'] = pd.cut(test['fnlwgt'], bins=fnl_bins, labels=fnl_labels)\n",
    "\n",
    "data.drop('fnlwgt', axis = 1, inplace = True)\n",
    "test.drop('fnlwgt', axis = 1, inplace = True)"
   ]
  },
  {
   "cell_type": "code",
   "execution_count": 11,
   "metadata": {},
   "outputs": [],
   "source": [
    "# Descretizing Age column\n",
    "\n",
    "age_bins = [17, 30, 40, 50, 60, 70, 80, 90]\n",
    "age_labels = ['Age-17-29', 'Age-30-39', 'Age-40-49', 'Age-50-59', 'Age-60-69', 'Age-70-79', 'Age-80-90']\n",
    "\n",
    "data['agerange'] = pd.cut(data['age'], bins=age_bins, labels=age_labels)\n",
    "test['agerange'] = pd.cut(test['age'], bins=age_bins, labels=age_labels)\n",
    "\n",
    "data.drop('age', axis = 1, inplace = True)\n",
    "test.drop('age', axis = 1, inplace = True)\n"
   ]
  },
  {
   "cell_type": "code",
   "execution_count": 12,
   "metadata": {},
   "outputs": [],
   "source": [
    "# Dropping education column as it is the exact same as educationnum. educationnum is the ordinal version of it\n",
    "data.drop('education', axis = 1, inplace = True)\n",
    "test.drop('education', axis = 1, inplace = True)"
   ]
  },
  {
   "cell_type": "code",
   "execution_count": 13,
   "metadata": {},
   "outputs": [],
   "source": [
    "# One hot encoding some categorical columns\n",
    "cols = ['workclass', 'marritalstatus', 'occupation', 'race', 'relationship', 'agerange', 'fnl']\n",
    "\n",
    "for col1 in cols:\n",
    "    dummies = pd.get_dummies(data[col1], dtype=int)\n",
    "    data = pd.concat([data, dummies], axis=1)\n",
    "\n",
    "for col2 in cols:\n",
    "    dummies = pd.get_dummies(test[col2], dtype=int)\n",
    "    test = pd.concat([test, dummies], axis=1)\n",
    "data.drop(data[cols], axis=1, inplace=True)\n",
    "test.drop(test[cols], axis=1, inplace=True)"
   ]
  },
  {
   "cell_type": "code",
   "execution_count": 14,
   "metadata": {},
   "outputs": [],
   "source": [
    "# Label encoding some categorical columns\n",
    "le = LabelEncoder()\n",
    "data['target'] = le.fit_transform(data['target'])\n",
    "test['target'] = le.fit_transform(test['target'])\n",
    "data['sex'] = le.fit_transform(data['sex'])\n",
    "test['sex'] = le.fit_transform(test['sex'])"
   ]
  },
  {
   "cell_type": "code",
   "execution_count": 15,
   "metadata": {},
   "outputs": [],
   "source": [
    "# Frequency encoding the country column. using the same encoding in train for test to avoid data leakage.\n",
    "frequency_map = data['country'].value_counts().to_dict()\n",
    "data['countryfreq'] = data['country'].map(frequency_map)\n",
    "test['countryfreq'] = test['country'].map(frequency_map)\n",
    "data.drop('country', axis = 1, inplace = True)"
   ]
  },
  {
   "cell_type": "code",
   "execution_count": 16,
   "metadata": {},
   "outputs": [],
   "source": [
    "X_train, y_train = data.drop('target', axis=1), data['target']\n",
    "X_test, y_test = data.drop('target', axis=1), data['target']"
   ]
  },
  {
   "cell_type": "code",
   "execution_count": 17,
   "metadata": {},
   "outputs": [
    {
     "name": "stdout",
     "output_type": "stream",
     "text": [
      "Training Accuracy: 95.79%\n",
      "Training Precision: 87.60%\n",
      "Training Recall: 96.79%\n",
      "Training F1 Score: 0.92\n",
      "Test Accuracy: 95.79%\n",
      "Test Precision: 87.60%\n",
      "Test Recall: 96.79%\n",
      "Test F1 Score: 0.92\n"
     ]
    }
   ],
   "source": [
    "# Choosing training model\n",
    "model = RandomForestClassifier(class_weight='balanced') # Setting class_weight to balanced because the data is imbalanced\n",
    "model.fit(X_train, y_train)\n",
    "\n",
    "# Make predictions\n",
    "y_train_pred = model.predict(X_train)\n",
    "y_pred = model.predict(X_test)\n",
    "\n",
    "# Evaluate the classifier using different metrics for both training and test data\n",
    "accuracy_train = accuracy_score(y_train, y_train_pred)\n",
    "precision_train = precision_score(y_train, y_train_pred)\n",
    "recall_train = recall_score(y_train, y_train_pred)\n",
    "f1_train = f1_score(y_train, y_train_pred)\n",
    "\n",
    "accuracy_test = accuracy_score(y_test, y_pred)\n",
    "precision_test = precision_score(y_test, y_pred)\n",
    "recall_test = recall_score(y_test, y_pred)\n",
    "f1_test = f1_score(y_test, y_pred)\n",
    "\n",
    "# Print the evaluation metrics for both training and test data\n",
    "print(\"Training Accuracy: {:.2f}%\".format(accuracy_train * 100))\n",
    "print(\"Training Precision: {:.2f}%\".format(precision_train * 100))\n",
    "print(\"Training Recall: {:.2f}%\".format(recall_train * 100))\n",
    "print(\"Training F1 Score: {:.2f}\".format(f1_train))\n",
    "print(\"Test Accuracy: {:.2f}%\".format(accuracy_test * 100))\n",
    "print(\"Test Precision: {:.2f}%\".format(precision_test * 100))\n",
    "print(\"Test Recall: {:.2f}%\".format(recall_test * 100))\n",
    "print(\"Test F1 Score: {:.2f}\".format(f1_test))"
   ]
  },
  {
   "cell_type": "code",
   "execution_count": 18,
   "metadata": {},
   "outputs": [
    {
     "name": "stdout",
     "output_type": "stream",
     "text": [
      "Training Accuracy: 96.51%\n",
      "Training Precision: 94.72%\n",
      "Training Recall: 98.52%\n",
      "Training F1 Score: 0.97\n",
      "Test Accuracy: 95.35%\n",
      "Test Precision: 85.51%\n",
      "Test Recall: 97.88%\n",
      "Test F1 Score: 0.91\n"
     ]
    }
   ],
   "source": [
    "\n",
    "# Apply random oversampling to balance the dataset (Improves recall)\n",
    "oversampler = RandomOverSampler(random_state=30)\n",
    "X_train_resampled, y_train_resampled = oversampler.fit_resample(X_train, y_train)\n",
    "\n",
    "# Choosing training model\n",
    "model = RandomForestClassifier()\n",
    "model.fit(X_train_resampled, y_train_resampled)\n",
    "\n",
    "# Make predictions\n",
    "y_train_pred = model.predict(X_train_resampled)\n",
    "y_pred = model.predict(X_test)\n",
    "\n",
    "# Evaluate the classifier using different metrics for both training and test data\n",
    "accuracy_train = accuracy_score(y_train_resampled, y_train_pred)\n",
    "precision_train = precision_score(y_train_resampled, y_train_pred)\n",
    "recall_train = recall_score(y_train_resampled, y_train_pred)\n",
    "f1_train = f1_score(y_train_resampled, y_train_pred)\n",
    "\n",
    "accuracy_test = accuracy_score(y_test, y_pred)\n",
    "precision_test = precision_score(y_test, y_pred)\n",
    "recall_test = recall_score(y_test, y_pred)\n",
    "f1_test = f1_score(y_test, y_pred)\n",
    "\n",
    "# Print the evaluation metrics for both training and test data\n",
    "print(\"Training Accuracy: {:.2f}%\".format(accuracy_train * 100))\n",
    "print(\"Training Precision: {:.2f}%\".format(precision_train * 100))\n",
    "print(\"Training Recall: {:.2f}%\".format(recall_train * 100))\n",
    "print(\"Training F1 Score: {:.2f}\".format(f1_train))\n",
    "print(\"Test Accuracy: {:.2f}%\".format(accuracy_test * 100))\n",
    "print(\"Test Precision: {:.2f}%\".format(precision_test * 100))\n",
    "print(\"Test Recall: {:.2f}%\".format(recall_test * 100))\n",
    "print(\"Test F1 Score: {:.2f}\".format(f1_test))\n",
    "\n",
    "\n",
    "\n"
   ]
  }
 ],
 "metadata": {
  "kernelspec": {
   "display_name": "Python 3",
   "language": "python",
   "name": "python3"
  },
  "language_info": {
   "codemirror_mode": {
    "name": "ipython",
    "version": 3
   },
   "file_extension": ".py",
   "mimetype": "text/x-python",
   "name": "python",
   "nbconvert_exporter": "python",
   "pygments_lexer": "ipython3",
   "version": "3.11.4"
  }
 },
 "nbformat": 4,
 "nbformat_minor": 2
}
